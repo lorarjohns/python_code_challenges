{
 "cells": [
  {
   "cell_type": "markdown",
   "metadata": {},
   "source": [
    "# Keeping a limited history\n",
    "\n",
    "Using a deque, the following performs a simple text match on a sequence of lines and yields the matching line along with the previous N lines of context when found.\n",
    "\n",
    "When writing code to search for items, it is common to use a generator function involving yield, as shown in this recipe’s solution. This decouples the process of searching from the code that uses the results.\n",
    "\n",
    "Using deque(maxlen=N) creates a fixed-sized queue. When new items are added and the queue is full, the oldest item is automatically removed.\n",
    "\n",
    "Although you could manually perform such operations on a list (e.g., appending, deleting, etc.), the queue solution is far more elegant and runs a lot faster.\n",
    "\n",
    "Adding or popping items from either end of a queue has O(1) complexity. This is unlike a list where inserting or removing items from the front of the list is O(N).\n",
    "\n",
    "If you are looking for the N smallest or largest items and N is small compared to the overall size of the collection, these functions provide superior performance. Underneath the covers, they work by first converting the data into a list where items are ordered as a heap. "
   ]
  },
  {
   "cell_type": "code",
   "execution_count": 7,
   "metadata": {},
   "outputs": [
    {
     "output_type": "stream",
     "name": "stdout",
     "text": "candidates may be confronted with a different type of exam as well: a\npersonality test that asks about their attitudes toward a variety of\nstituations.  Answers are often run through a computer to produce a\nprofile that rates the applicant on scales, or \"personality\nconstructs,\" as they are called in the jargon of the trade, with names\nlike \"gregarious\" and \"tough-minded.\"\n--------------------\nextroversion, for marketing positions.\n\nRodney L. Lowman, a psychologist at Duke University Medical center and\nauthor of a book about testing, offers some words of caution:  \"There\nis far more practice than there is research literature to support the\nproactive use of these tests.\"  Lowman believes that \"mistakes are\n--------------------\n\nDespite the obvious possibilities for cheating, some sellers claim the\ntests can predict subsequent inventory disappearances or detect\nprevious criminal behavior.  But validating such tests is difficult\nbecause employee-thieves are seldom caught.  In addition, publishers\nof honesty tests \"intentionally err on the side of lenience\" to avoid\n--------------------\npercent, and many good workers would be wrongly rejected.\n\nThe suspicion that personality tests unjustly reject some applicants\nis probably why they are unpopular, admits Scott Martin, a\npsychologist at London House, a test publisher in Park Ridge, Ill. \n\"Once you make it objective, it gives people something to criticize.\" \n--------------------\npre-employment test publishers say their tests should accompany other\nforms of assessment, such as an interview, in practice personality and\nhonesty tests are often used instead of other forms of assessment.  So\nthey could be a step backward.  Lou Maltby of the American Civil\nLiberties Union fears that tests may create an unemployable group who\n\"test dishonest\" or otherwise prove unsuitable.  If Maltby is right,\n--------------------\n       insane speculation, and wild rumours. ALL-TEXT BBS SYSTEMS.\n\n  Full access for first-time callers.  We don't want to know who you are,\n   where you live, or what your phone number is. We are not Big Brother.\n\n                          \"Raw Data for Raw Nerves\"\n--------------------\n"
    }
   ],
   "source": [
    "from collections import deque\n",
    "import re\n",
    "\n",
    "def search(lines, pattern, history=5):\n",
    "    previous_lines = deque(maxlen=history)\n",
    "    for line in lines:\n",
    "        #if pattern in line:\n",
    "        if re.search(pattern, line):\n",
    "            yield line, previous_lines\n",
    "        previous_lines.append(line)\n",
    "\n",
    "# Example use on a file\n",
    "if __name__ == '__main__':\n",
    "    with open('perstest.txt') as f:\n",
    "        # for line, prevlines in search(f, 'Psychometric', 5):\n",
    "        for line, prevlines in search(f, r'(\\\".*?\\\")', 5):\n",
    "            for pline in prevlines:\n",
    "                print(pline, end='')\n",
    "            print(line, end='')\n",
    "            print('-'*20)"
   ]
  },
  {
   "cell_type": "code",
   "execution_count": 8,
   "metadata": {},
   "outputs": [
    {
     "output_type": "stream",
     "name": "stdout",
     "text": "deque([1, 2, 3], maxlen=3)\ndeque([2, 3, 4], maxlen=3)\n"
    }
   ],
   "source": [
    "# Create a fixed-size queue\n",
    "\n",
    "q = deque(maxlen=3)\n",
    "q.append(1)\n",
    "q.append(2)\n",
    "q.append(3)\n",
    "print(q)\n",
    "q.append(4)\n",
    "print(q)"
   ]
  },
  {
   "cell_type": "code",
   "execution_count": 9,
   "metadata": {},
   "outputs": [
    {
     "output_type": "stream",
     "name": "stdout",
     "text": "deque([2, 1, 3])\ndeque([2, 1])\ndeque([1])\n"
    }
   ],
   "source": [
    "# Create an unbounded queue\n",
    "# Adding or popping has O(1) complexity\n",
    "# as opposed to a list, which has O(N)\n",
    "\n",
    "q = deque()\n",
    "q.append(1)\n",
    "q.appendleft(2)\n",
    "q.append(3)\n",
    "print(q)\n",
    "q.pop()\n",
    "print(q)\n",
    "q.popleft()\n",
    "print(q)"
   ]
  },
  {
   "cell_type": "markdown",
   "metadata": {},
   "source": [
    "# Finding the largest/smallest N items\n",
    "\n",
    "Using a heap, find the N largest/smallest items in a collection"
   ]
  },
  {
   "cell_type": "code",
   "execution_count": 10,
   "metadata": {},
   "outputs": [
    {
     "output_type": "stream",
     "name": "stdout",
     "text": "[42, 37, 23]\n[-4, 1, 2]\n"
    }
   ],
   "source": [
    "import heapq\n",
    "\n",
    "nums = [1, 8, 2, 23, 7, -4, 18, 23, 42, 37, 2]\n",
    "\n",
    "print(heapq.nlargest(3, nums))\n",
    "print(heapq.nsmallest(3, nums))"
   ]
  },
  {
   "cell_type": "code",
   "execution_count": 5,
   "metadata": {},
   "outputs": [],
   "source": [
    "import heapq \n",
    "\n",
    "portfolio = [\n",
    "   {'name': 'IBM', 'shares': 100, 'price': 91.1},\n",
    "   {'name': 'AAPL', 'shares': 50, 'price': 543.22},\n",
    "   {'name': 'FB', 'shares': 200, 'price': 21.09},\n",
    "   {'name': 'HPQ', 'shares': 35, 'price': 31.75},\n",
    "   {'name': 'YHOO', 'shares': 45, 'price': 16.35},\n",
    "   {'name': 'ACME', 'shares': 75, 'price': 115.65}\n",
    "]\n",
    "\n",
    "lowest = heapq.nsmallest(3, portfolio, key=lambda s: s['price'])\n",
    "highest = heapq.nlargest(3, portfolio, key=lambda s: s['price'])"
   ]
  },
  {
   "cell_type": "markdown",
   "metadata": {},
   "source": [
    "## Convert a list to a heap\n",
    "\n",
    "`heap[0]` is always the smallest item. Subsequent items can be found using `heapq.heappop()`, which pops the first item replacing it with the next smallest (O(logN) time)."
   ]
  },
  {
   "cell_type": "code",
   "execution_count": 9,
   "metadata": {},
   "outputs": [
    {
     "output_type": "stream",
     "name": "stdout",
     "text": "[-4, 2, 1, 23, 7, 2, 18, 23, 42, 37, 8]\n[1, 2, 2, 23, 7, 8, 18, 23, 42, 37]\n"
    }
   ],
   "source": [
    "nums = [1, 8, 2, 23, 7, -4, 18, 23, 42, 37, 2]\n",
    "\n",
    "heap = list(nums)\n",
    "heapq.heapify(heap)\n",
    "print(heap)\n",
    "\n",
    "heapq.heappop(heap)\n",
    "print(heap)"
   ]
  },
  {
   "cell_type": "markdown",
   "metadata": {},
   "source": [
    "# Implement a priority queue\n",
    "\n",
    "Sort items by a given priority and always return the one with the highest on each pop operation\n",
    "\n",
    "The role of the index variable is to properly order items with the same priority level. By keeping a constantly increasing index, the items will be sorted according to the order in which they were inserted. However, the index also serves an important role in making the comparison operations work for items that have the same priority level."
   ]
  },
  {
   "cell_type": "code",
   "execution_count": 37,
   "metadata": {},
   "outputs": [],
   "source": [
    "class PriorityQueue:\n",
    "    def __init__(self):\n",
    "        self._queue = []\n",
    "        self._index = 0\n",
    "\n",
    "    def push(self, item, priority):\n",
    "        heapq.heappush(self._queue, (priority, self._index, item))\n",
    "        self._index += 1\n",
    "    \n",
    "    def pop(self):\n",
    "        return heapq.heappop(self._queue)[-1]"
   ]
  },
  {
   "cell_type": "code",
   "execution_count": 38,
   "metadata": {},
   "outputs": [],
   "source": [
    "class Item:\n",
    "    def __init__(self, name):\n",
    "        self.name = name\n",
    "    def __repr__(self):\n",
    "        return f\"Item {self.name}\""
   ]
  },
  {
   "cell_type": "code",
   "execution_count": 39,
   "metadata": {},
   "outputs": [],
   "source": [
    "q = PriorityQueue()\n",
    "q.push('apple', 1)\n",
    "q.push('pineapple', 3)\n",
    "q.push('grapes', 5)\n",
    "q.push('peaches',2)\n",
    "q.push('banana', 1)"
   ]
  },
  {
   "cell_type": "code",
   "execution_count": 40,
   "metadata": {},
   "outputs": [
    {
     "output_type": "execute_result",
     "data": {
      "text/plain": "'apple'"
     },
     "metadata": {},
     "execution_count": 40
    }
   ],
   "source": [
    "q.pop()"
   ]
  },
  {
   "cell_type": "markdown",
   "metadata": {},
   "source": [
    "# Unpacking a sequence"
   ]
  },
  {
   "cell_type": "code",
   "execution_count": 21,
   "metadata": {},
   "outputs": [],
   "source": [
    "# Discard some\n",
    "data = [ 'ACME', 50, 91.1, (2012, 12, 21) ]\n",
    "_, shares, price, _ = data"
   ]
  },
  {
   "cell_type": "code",
   "execution_count": 26,
   "metadata": {},
   "outputs": [],
   "source": [
    "def drop_first_last(grades):\n",
    "    first, *middle, last = sorted(grades)\n",
    "    return sum(middle)/len(middle)"
   ]
  },
  {
   "cell_type": "code",
   "execution_count": 27,
   "metadata": {},
   "outputs": [
    {
     "output_type": "execute_result",
     "data": {
      "text/plain": "89.66666666666667"
     },
     "metadata": {},
     "execution_count": 27
    }
   ],
   "source": [
    "drop_first_last([90, 44, 90, 89, 91])"
   ]
  },
  {
   "cell_type": "code",
   "execution_count": 28,
   "metadata": {},
   "outputs": [
    {
     "output_type": "execute_result",
     "data": {
      "text/plain": "['773-555-1212', '847-555-1212']"
     },
     "metadata": {},
     "execution_count": 28
    }
   ],
   "source": [
    "record = ('Dave', 'dave@example.com', '773-555-1212', '847-555-1212')\n",
    "name, email, *phone_numbers = record\n",
    "phone_numbers"
   ]
  },
  {
   "cell_type": "code",
   "execution_count": 1,
   "metadata": {},
   "outputs": [
    {
     "output_type": "stream",
     "name": "stdout",
     "text": "7.142857142857143 3\n"
    }
   ],
   "source": [
    "*trailing_qts, current_qtr = [10, 8, 7, 1, 9, 5, 10, 3]\n",
    "trailing_avg = sum(trailing_qts)/len(trailing_qts)\n",
    "print(trailing_avg, current_qtr)"
   ]
  },
  {
   "cell_type": "code",
   "execution_count": 35,
   "metadata": {},
   "outputs": [
    {
     "output_type": "stream",
     "name": "stdout",
     "text": "Inches\n"
    }
   ],
   "source": [
    "items = [\"Inches\", 1, 10, 7, 4, 5, 9]\n",
    "header, *data = items\n",
    "print(header)"
   ]
  },
  {
   "cell_type": "markdown",
   "metadata": {},
   "source": [
    "## Iterating over series of tagged tuples"
   ]
  },
  {
   "cell_type": "code",
   "execution_count": 30,
   "metadata": {},
   "outputs": [
    {
     "output_type": "stream",
     "name": "stdout",
     "text": "foo 1 2\nbar hello\nfoo 3 4\n"
    }
   ],
   "source": [
    "\n",
    "records = [\n",
    "     ('foo', 1, 2),\n",
    "     ('bar', 'hello'),\n",
    "     ('foo', 3, 4),\n",
    "]\n",
    "\n",
    "def foo(x, y):\n",
    "    print('foo', x+y)\n",
    "def bar(s):\n",
    "    print('bar', s)\n",
    "\n",
    "for tag, *args in records:\n",
    "    if tag == 'foo':\n",
    "        foo(*args)\n",
    "    elif tag == 'bar':\n",
    "        bar(*args)"
   ]
  },
  {
   "cell_type": "markdown",
   "metadata": {},
   "source": [
    "## String processing"
   ]
  },
  {
   "cell_type": "code",
   "execution_count": 31,
   "metadata": {},
   "outputs": [
    {
     "output_type": "execute_result",
     "data": {
      "text/plain": "'/var/empty'"
     },
     "metadata": {},
     "execution_count": 31
    }
   ],
   "source": [
    "line = 'nobody:*:-2:-2:Unprivileged User:/var/empty:/usr/bin/false'\n",
    "username, *fields, homedir, sh = line.split(\":\")\n",
    "homedir"
   ]
  },
  {
   "cell_type": "markdown",
   "metadata": {},
   "source": [
    "## Unpack and ignore variables"
   ]
  },
  {
   "cell_type": "code",
   "execution_count": 2,
   "metadata": {},
   "outputs": [
    {
     "output_type": "stream",
     "name": "stdout",
     "text": "ACME\n2012\n"
    }
   ],
   "source": [
    "record = ('ACME', 50, 123.45, (12, 18, 2012))\n",
    "\n",
    "name, *_, (*_, year) = record\n",
    "print(name)\n",
    "print(year)"
   ]
  },
  {
   "cell_type": "markdown",
   "metadata": {},
   "source": [
    "## Recursion"
   ]
  },
  {
   "cell_type": "code",
   "execution_count": 3,
   "metadata": {},
   "outputs": [
    {
     "output_type": "execute_result",
     "data": {
      "text/plain": "15"
     },
     "metadata": {},
     "execution_count": 3
    }
   ],
   "source": [
    "def sum(items):\n",
    "    head, *tail = items\n",
    "    return head + sum(tail) if tail else head\n",
    "\n",
    "sum([1, 2, 3, 4, 5])"
   ]
  },
  {
   "cell_type": "markdown",
   "metadata": {},
   "source": [
    "# Map keys to multiple values in a dictionary\n",
    "\n",
    "- Use sets if you want to deduplicate values\n",
    "- Use lists to preserve insertion order\n",
    "- Easiest way: `defaultdict`"
   ]
  },
  {
   "cell_type": "code",
   "execution_count": 48,
   "metadata": {},
   "outputs": [],
   "source": [
    "from collections import defaultdict\n",
    "\n",
    "d = defaultdict(list)\n",
    "d['a'].append(1)\n",
    "d['b'].append(2)\n",
    "d['b'].append(2)\n",
    "d['a'].append(4)"
   ]
  },
  {
   "cell_type": "code",
   "execution_count": 49,
   "metadata": {},
   "outputs": [
    {
     "output_type": "execute_result",
     "data": {
      "text/plain": "defaultdict(list, {'a': [1, 4], 'b': [2, 2]})"
     },
     "metadata": {},
     "execution_count": 49
    }
   ],
   "source": [
    "d"
   ]
  },
  {
   "cell_type": "code",
   "execution_count": 50,
   "metadata": {},
   "outputs": [],
   "source": [
    "d = defaultdict(set)\n",
    "d['a'].add(1)\n",
    "d['b'].add(2)\n",
    "d['b'].add(2)\n",
    "d['a'].add(4)"
   ]
  },
  {
   "cell_type": "code",
   "execution_count": 51,
   "metadata": {},
   "outputs": [
    {
     "output_type": "execute_result",
     "data": {
      "text/plain": "defaultdict(set, {'a': {1, 4}, 'b': {2}})"
     },
     "metadata": {},
     "execution_count": 51
    }
   ],
   "source": [
    "d"
   ]
  },
  {
   "cell_type": "code",
   "execution_count": 52,
   "metadata": {},
   "outputs": [],
   "source": [
    "# Disable adding keys accessed later on that aren't already in the dictionary\n",
    "\n",
    "d = {}\n",
    "d.setdefault('a', []).append(1)\n",
    "d.setdefault('a', []).append(2)"
   ]
  },
  {
   "cell_type": "markdown",
   "metadata": {},
   "source": [
    "# Preserve order in dict \n",
    "\n",
    "An OrderedDict internally maintains a doubly linked list that orders the keys according to insertion order. When a new item is first inserted, it is placed at the end of this list. Subsequent reassignment of an existing key doesn’t change the order.\n",
    "\n",
    "An OrderedDict internally maintains a doubly linked list that orders the keys according to insertion order. When a new item is first inserted, it is placed at the end of this list. Subsequent reassignment of an existing key doesn’t change the order.\n",
    "\n",
    "the size of an OrderedDict is more than twice as large as a normal dictionary due to the extra linked list that’s created. "
   ]
  },
  {
   "cell_type": "code",
   "execution_count": 11,
   "metadata": {},
   "outputs": [
    {
     "output_type": "stream",
     "name": "stdout",
     "text": "a 1\nb 2\nc 3\nd 4\n"
    }
   ],
   "source": [
    "from collections import OrderedDict\n",
    "\n",
    "d = OrderedDict()\n",
    "d['a'] = 1\n",
    "d['b'] = 2\n",
    "d['c'] = 3\n",
    "d['d'] = 4\n",
    "\n",
    "for key in d:\n",
    "    print(key, d[key])"
   ]
  },
  {
   "cell_type": "markdown",
   "metadata": {},
   "source": [
    "An OrderedDict can be particularly useful when you want to build a mapping that you may want to later serialize or encode into a different format. For example, if you want to precisely control the order of fields appearing in a JSON encoding, first building the data in an OrderedDict will do the trick"
   ]
  },
  {
   "cell_type": "code",
   "execution_count": 12,
   "metadata": {},
   "outputs": [
    {
     "output_type": "execute_result",
     "data": {
      "text/plain": "'{\"a\": 1, \"b\": 2, \"c\": 3, \"d\": 4}'"
     },
     "metadata": {},
     "execution_count": 12
    }
   ],
   "source": [
    "import json\n",
    "\n",
    "json.dumps(d)"
   ]
  },
  {
   "cell_type": "markdown",
   "metadata": {},
   "source": [
    "# Invert keys and values in dict\n",
    "\n",
    "The solution involving zip() solves the problem by \"inverting\" the dictionary into a sequence of (value, key) pairs. When performing comparisons on such tuples, the value element is compared first, followed by the key. This gives you exactly the behavior that you want and allows reductions and sorting to be easily performed on the dictionary contents using a single statement.\n",
    "\n",
    "It should be noted that in calculations involving (value, key) pairs, the key will be used to determine the result in instances where multiple entries happen to have the same value. For instance, in calculations such as min() and max(), the entry with the smallest or largest key will be returned if there happen to be duplicate values. "
   ]
  },
  {
   "cell_type": "code",
   "execution_count": 2,
   "metadata": {},
   "outputs": [
    {
     "output_type": "execute_result",
     "data": {
      "text/plain": "((10.75, 'FB'), (612.78, 'AAPL'))"
     },
     "metadata": {},
     "execution_count": 2
    }
   ],
   "source": [
    "prices = {\n",
    "   'ACME': 45.23,\n",
    "   'AAPL': 612.78,\n",
    "   'IBM': 205.55,\n",
    "   'HPQ': 37.20,\n",
    "   'FB': 10.75\n",
    "}\n",
    "\n",
    "# zip creates a consumable iterator\n",
    "min_price = min(zip(prices.values(), prices.keys()))\n",
    "max_price = max(zip(prices.values(), prices.keys()))\n",
    "min_price, max_price"
   ]
  },
  {
   "cell_type": "code",
   "execution_count": 3,
   "metadata": {},
   "outputs": [
    {
     "output_type": "execute_result",
     "data": {
      "text/plain": "[(10.75, 'FB'),\n (37.2, 'HPQ'),\n (45.23, 'ACME'),\n (205.55, 'IBM'),\n (612.78, 'AAPL')]"
     },
     "metadata": {},
     "execution_count": 3
    }
   ],
   "source": [
    "# Ranking data\n",
    "\n",
    "prices_sorted = sorted(zip(prices.values(), prices.keys()))\n",
    "prices_sorted"
   ]
  },
  {
   "cell_type": "markdown",
   "metadata": {},
   "source": [
    "Aggregate functions on dicts operate on keys only.\n",
    "\n",
    "You can use a key to bypass that problem but will need to do an extra lookup to get the corresponding value"
   ]
  },
  {
   "cell_type": "code",
   "execution_count": 5,
   "metadata": {},
   "outputs": [
    {
     "output_type": "stream",
     "name": "stdout",
     "text": "AAPL\nIBM\n"
    }
   ],
   "source": [
    "print(min(prices))\n",
    "print(max(prices))"
   ]
  },
  {
   "cell_type": "code",
   "execution_count": 6,
   "metadata": {},
   "outputs": [
    {
     "output_type": "stream",
     "name": "stdout",
     "text": "10.75\n612.78\n"
    }
   ],
   "source": [
    "print(min(prices.values()))\n",
    "print(max(prices.values()))"
   ]
  },
  {
   "cell_type": "code",
   "execution_count": 8,
   "metadata": {},
   "outputs": [
    {
     "output_type": "stream",
     "name": "stdout",
     "text": "FB\nAAPL\n"
    }
   ],
   "source": [
    "print(min(prices, key=lambda k: prices[k]))\n",
    "print(max(prices, key=lambda k: prices[k]))"
   ]
  },
  {
   "cell_type": "code",
   "execution_count": 9,
   "metadata": {},
   "outputs": [
    {
     "output_type": "stream",
     "name": "stdout",
     "text": "10.75\n612.78\n"
    }
   ],
   "source": [
    "print(prices[min(prices, key=lambda k: prices[k])])\n",
    "print(prices[max(prices, key=lambda k: prices[k])])"
   ]
  },
  {
   "cell_type": "markdown",
   "metadata": {},
   "source": [
    "# Finding Commonalities in Two Dictionaries\n",
    "\n",
    "- perform common set operations on \n"
   ]
  },
  {
   "cell_type": "code",
   "execution_count": 11,
   "metadata": {},
   "outputs": [],
   "source": [
    "a = {\n",
    "   'v': 0,\n",
    "   'x' : 1,\n",
    "   'y' : 2,\n",
    "   'z' : 3\n",
    "}\n",
    "\n",
    "b = {\n",
    "   'w' : 10,\n",
    "   'x' : 11,\n",
    "   'y' : 2\n",
    "}"
   ]
  },
  {
   "cell_type": "code",
   "execution_count": 12,
   "metadata": {},
   "outputs": [
    {
     "output_type": "execute_result",
     "data": {
      "text/plain": "{'x', 'y'}"
     },
     "metadata": {},
     "execution_count": 12
    }
   ],
   "source": [
    "a.keys() & b.keys()"
   ]
  },
  {
   "cell_type": "code",
   "execution_count": 13,
   "metadata": {},
   "outputs": [
    {
     "output_type": "execute_result",
     "data": {
      "text/plain": "{'v', 'z'}"
     },
     "metadata": {},
     "execution_count": 13
    }
   ],
   "source": [
    "a.keys() - b.keys()"
   ]
  },
  {
   "cell_type": "code",
   "execution_count": 14,
   "metadata": {},
   "outputs": [
    {
     "output_type": "execute_result",
     "data": {
      "text/plain": "{('v', 0), ('x', 1), ('z', 3)}"
     },
     "metadata": {},
     "execution_count": 14
    }
   ],
   "source": [
    "a.items() - b.items()"
   ]
  },
  {
   "cell_type": "markdown",
   "metadata": {},
   "source": [
    "## Filter a dictionary\n",
    "\n",
    "Use the above operations to make a new dictionary with keys removed (use a dictionary comprehension)"
   ]
  },
  {
   "cell_type": "code",
   "execution_count": 16,
   "metadata": {},
   "outputs": [
    {
     "output_type": "execute_result",
     "data": {
      "text/plain": "{'x': 1, 'y': 2}"
     },
     "metadata": {},
     "execution_count": 16
    }
   ],
   "source": [
    "c = {key: a[key] for key in a.keys() - {'v','z'}}\n",
    "c"
   ]
  },
  {
   "cell_type": "markdown",
   "metadata": {},
   "source": [
    "# Remove duplicates and maintain order\n",
    "\n",
    "** If values are hashable: **\n",
    "Use a set and a generator\n",
    "\n",
    "** If values are not hashable: **\n",
    "Provide a key to specify a lambda function that converts items into a hashable type for purposes of duplicate detection.\n",
    "The specification of a key function mimics similar functionality in built-in functions such as sorted(), min(), and max().\n",
    "\n",
    "__Why not just use a set?__\n",
    "A set won't preserve any kind of ordering."
   ]
  },
  {
   "cell_type": "code",
   "execution_count": 21,
   "metadata": {},
   "outputs": [],
   "source": [
    "def dedupe_hashable(items):\n",
    "    seen = set()\n",
    "    for item in items:\n",
    "        if item not in seen:\n",
    "            seen.add(item)\n",
    "            yield item"
   ]
  },
  {
   "cell_type": "code",
   "execution_count": 22,
   "metadata": {},
   "outputs": [],
   "source": [
    "a = [1, 5, 2, 1, 9, 1, 5, 10]"
   ]
  },
  {
   "cell_type": "code",
   "execution_count": 23,
   "metadata": {},
   "outputs": [
    {
     "output_type": "execute_result",
     "data": {
      "text/plain": "[1, 5, 2, 9, 10]"
     },
     "metadata": {},
     "execution_count": 23
    }
   ],
   "source": [
    "list(dedupe_hashable(a))"
   ]
  },
  {
   "cell_type": "code",
   "execution_count": 24,
   "metadata": {},
   "outputs": [],
   "source": [
    "def dedupe_nohash(items, key):\n",
    "    seen = set()\n",
    "    for item in items:\n",
    "        val = item if key is None else key(item)\n",
    "        if val not in seen:\n",
    "            seen.add(val)\n",
    "            yield item"
   ]
  },
  {
   "cell_type": "code",
   "execution_count": 28,
   "metadata": {},
   "outputs": [
    {
     "output_type": "execute_result",
     "data": {
      "text/plain": "[{'x': 1, 'y': 2}, {'x': 1, 'y': 3}, {'x': 2, 'y': 4}]"
     },
     "metadata": {},
     "execution_count": 28
    }
   ],
   "source": [
    "b = [ {'x':1, 'y':2}, {'x':1, 'y':3}, {'x':1, 'y':2}, {'x':2, 'y':4}]\n",
    "\n",
    "list(dedupe_nohash(b, key=lambda d: (d['x'], d['y'])))"
   ]
  },
  {
   "cell_type": "code",
   "execution_count": 30,
   "metadata": {},
   "outputs": [
    {
     "output_type": "execute_result",
     "data": {
      "text/plain": "[{'x': 1, 'y': 2}, {'x': 1, 'y': 3}, {'x': 2, 'y': 4}]"
     },
     "metadata": {},
     "execution_count": 30
    }
   ],
   "source": [
    "list(dedupe_nohash(b, key=lambda d: d['y']))"
   ]
  },
  {
   "cell_type": "code",
   "execution_count": 31,
   "metadata": {},
   "outputs": [
    {
     "output_type": "execute_result",
     "data": {
      "text/plain": "[{'x': 1, 'y': 2}, {'x': 2, 'y': 4}]"
     },
     "metadata": {},
     "execution_count": 31
    }
   ],
   "source": [
    "list(dedupe_nohash(b, key=lambda d: d['x']))"
   ]
  },
  {
   "cell_type": "markdown",
   "metadata": {},
   "source": [
    "Using a generator lets you make the function very general-purpose (like eliminating duplicate lines in a file):"
   ]
  },
  {
   "cell_type": "code",
   "execution_count": 40,
   "metadata": {},
   "outputs": [
    {
     "output_type": "stream",
     "name": "stdout",
     "text": "Don't worry about what anybody else is going to do. The best way to\n\npredict the future is to invent it.\n\n-- Alan Kay\n\n\n\nPremature optimization is the root of all evil (or at least most of it)\n\nin programming.\n\n-- Donald Knuth\n\nKeep away from people who try to belittle your ambitions. Small people\n\nalways do that, but the really great make you feel that you, too, can\n\nbecome great.\n\n-- Mark Twain\n\n"
    }
   ],
   "source": [
    "with open(\"quotes.txt\", 'r') as f:\n",
    "    counter = 0\n",
    "    for line in dedupe_hashable(f):\n",
    "        if counter < 11:\n",
    "            print(line)\n",
    "            counter += 1"
   ]
  },
  {
   "cell_type": "markdown",
   "metadata": {},
   "source": [
    "# Naming slices for readable code\n",
    "\n",
    "Fix hard-coded index slices with the `slice` builtin to create a slice object that can be used anywhere a slice is allowed.\n"
   ]
  },
  {
   "cell_type": "code",
   "execution_count": 101,
   "metadata": {},
   "outputs": [],
   "source": [
    "#0123456789012345678901234567890123456789012345678901234567890'\n",
    "record = '....................100          .......513.25     ..........'"
   ]
  },
  {
   "cell_type": "code",
   "execution_count": 102,
   "metadata": {},
   "outputs": [],
   "source": [
    "SHARES = slice(20,32)\n",
    "PRICE = slice(40,48)"
   ]
  },
  {
   "cell_type": "code",
   "execution_count": 103,
   "metadata": {},
   "outputs": [
    {
     "output_type": "execute_result",
     "data": {
      "text/plain": "513.25"
     },
     "metadata": {},
     "execution_count": 103
    }
   ],
   "source": [
    "cost = int(record[SHARES])\n",
    "float(record[PRICE])"
   ]
  },
  {
   "cell_type": "code",
   "execution_count": 105,
   "metadata": {},
   "outputs": [
    {
     "output_type": "stream",
     "name": "stdout",
     "text": "0 6 2\n"
    }
   ],
   "source": [
    "items =  [0, 1, 10, 11, 4, 5, 6]\n",
    "s = slice(0, 6, 2)\n",
    "print(s.start, s.stop, s.step)"
   ]
  },
  {
   "cell_type": "markdown",
   "metadata": {},
   "source": [
    "In addition, you can map a slice onto a sequence of a specific size by using its indices(size) method. This returns a tuple (start, stop, step) where all values have been suitably limited to fit within bounds (as to avoid IndexError exceptions when indexing)."
   ]
  },
  {
   "cell_type": "code",
   "execution_count": 113,
   "metadata": {},
   "outputs": [
    {
     "output_type": "stream",
     "name": "stdout",
     "text": "0\n3\n5\n"
    }
   ],
   "source": [
    "a = [0, 2, 3, 4, 5]\n",
    "for i in range(*s.indices(len(a))):\n",
    "    print(a[i])"
   ]
  },
  {
   "cell_type": "markdown",
   "metadata": {},
   "source": [
    "# Determine the most frequently occurring items in a sequence\n",
    "\n",
    "Counter objects can be incremented:\n",
    "- using addition\n",
    "- using `.update()`\n",
    "\n",
    "A little-known feature of Counter instances is that they can be easily combined using various mathematical operations."
   ]
  },
  {
   "cell_type": "code",
   "execution_count": 100,
   "metadata": {},
   "outputs": [
    {
     "output_type": "execute_result",
     "data": {
      "text/plain": "{'plainly.': 1,\n 'express': 1,\n 'truth': 1,\n 'has': 2,\n 'ability': 1,\n '--': 1,\n 'since': 1,\n 'create': 1,\n 'programmers': 1,\n 'vision,': 2,\n 'human': 1,\n 'are': 1,\n 'out': 1,\n 'hacking.': 1,\n 'learned': 1,\n 'favorites,': 1,\n 'explains': 1,\n 'great': 2,\n 'that': 1,\n 'paul': 1,\n 'from': 1,\n 'imagination': 1,\n 'contemporary': 1,\n 'matz': 1,\n 'matsumoto,': 1,\n 'to': 2,\n 'language': 1,\n 'hacker': 1,\n 'graham': 1,\n 'experience.': 1,\n 'book': 1,\n 'heroes.': 1,\n 'world': 1,\n 'who': 1,\n 'limitation.': 1,\n 'thus,': 1,\n 'it': 1,\n 'my': 1,\n 'secrets': 1,\n 'ones': 1,\n 'programs': 1,\n 'nature': 2,\n 'he': 2,\n 'tells': 1,\n 'hero': 1,\n 'vision.': 1,\n 'creator': 1,\n 'design.': 1,\n 'his': 2,\n 'in': 1,\n 'you': 2,\n 'can': 1,\n 'nothing,': 1,\n 'describing': 1,\n 'embrace': 1,\n 'ruby': 1,\n 'yukihiro': 1,\n 'about': 1,\n 'languages,': 1,\n 'shows': 1,\n 'works': 1,\n 'especially': 1,\n 'be': 1,\n 'this': 1}"
     },
     "metadata": {},
     "execution_count": 100
    }
   ],
   "source": [
    "q1 = 'Since programmers create programs out of nothing, imagination is our only limitation. Thus, in the world of programming, the hero is the one who has great vision. Paul Graham is one of our contemporary heroes. He has the ability to embrace the vision, and to express it plainly. His works are my favorites, especially the ones describing language design. He explains secrets of programming, languages, and human nature that can only be learned from the hacker experience. This book shows you his great vision, and tells you the truth about the nature of hacking. -- Yukihiro Matz Matsumoto, creator of Ruby'.lower().split()\n",
    "\n",
    "q2 = 'This challenge, viz. the confrontation with the programming task, is so unique that this novel experience can teach us a lot about ourselves. It should deepen our understanding of the processes of design and creation, it should give us better control over the task of organizing our thoughts. If it did not do so, to my taste we should no deserve the computer at all!  It has allready taught us a few lessons, and the one I have chosen to stress in this talk is the following. We shall do a much better programming job, provided that we approach the task with a full appreciation of its tremenduous difficulty, provided that we stick to modest and elegant programming languages, provided that we respect the intrinsec limitations of the human mind and approach the task as Very Humble Programmers. -- E. W. Dijkstra, The humble programmer'.lower().split()\n",
    "\n",
    "from collections import Counter\n",
    "\n",
    "c1 = Counter(q1)\n",
    "c2 = Counter(q2)\n",
    "\n",
    "only_in_q1 = c1.keys() - c2.keys()\n",
    "in_both = c1.keys() & c2.keys()\n",
    "\n",
    "remove_common = {k: c1[k] for k in c1.keys() - {'He', 'the', 'are', 'his', 'His', 'be', 'you', '--', 'one', 'out', 'has', 'This', 'that', 'is', 'from', 'to', 'of', 'and', 'in', 'our', 'it', 'my'}}\n",
    "\n",
    "word, count = zip(*c1.most_common(8))\n",
    "{k: c1[k] for k in c1.keys() - set(word)}"
   ]
  },
  {
   "cell_type": "code",
   "execution_count": 116,
   "metadata": {},
   "outputs": [
    {
     "output_type": "execute_result",
     "data": {
      "text/plain": "Counter({'since': 1,\n         'programmers': 1,\n         'create': 1,\n         'programs': 1,\n         'out': 1,\n         'of': 11,\n         'nothing,': 1,\n         'imagination': 1,\n         'is': 5,\n         'our': 4,\n         'only': 2,\n         'limitation.': 1,\n         'thus,': 1,\n         'in': 2,\n         'the': 21,\n         'world': 1,\n         'programming,': 2,\n         'hero': 1,\n         'one': 3,\n         'who': 1,\n         'has': 3,\n         'great': 2,\n         'vision.': 1,\n         'paul': 1,\n         'graham': 1,\n         'contemporary': 1,\n         'heroes.': 1,\n         'he': 2,\n         'ability': 1,\n         'to': 5,\n         'embrace': 1,\n         'vision,': 2,\n         'and': 7,\n         'express': 1,\n         'it': 5,\n         'plainly.': 1,\n         'his': 2,\n         'works': 1,\n         'are': 1,\n         'my': 2,\n         'favorites,': 1,\n         'especially': 1,\n         'ones': 1,\n         'describing': 1,\n         'language': 1,\n         'design.': 1,\n         'explains': 1,\n         'secrets': 1,\n         'languages,': 2,\n         'human': 2,\n         'nature': 2,\n         'that': 5,\n         'can': 2,\n         'be': 1,\n         'learned': 1,\n         'from': 1,\n         'hacker': 1,\n         'experience.': 1,\n         'this': 4,\n         'book': 1,\n         'shows': 1,\n         'you': 2,\n         'tells': 1,\n         'truth': 1,\n         'about': 2,\n         'hacking.': 1,\n         '--': 2,\n         'yukihiro': 1,\n         'matz': 1,\n         'matsumoto,': 1,\n         'creator': 1,\n         'ruby': 1,\n         'challenge,': 1,\n         'viz.': 1,\n         'confrontation': 1,\n         'with': 2,\n         'programming': 3,\n         'task,': 1,\n         'so': 1,\n         'unique': 1,\n         'novel': 1,\n         'experience': 1,\n         'teach': 1,\n         'us': 3,\n         'a': 4,\n         'lot': 1,\n         'ourselves.': 1,\n         'should': 3,\n         'deepen': 1,\n         'understanding': 1,\n         'processes': 1,\n         'design': 1,\n         'creation,': 1,\n         'give': 1,\n         'better': 2,\n         'control': 1,\n         'over': 1,\n         'task': 3,\n         'organizing': 1,\n         'thoughts.': 1,\n         'if': 1,\n         'did': 1,\n         'not': 1,\n         'do': 2,\n         'so,': 1,\n         'taste': 1,\n         'we': 5,\n         'no': 1,\n         'deserve': 1,\n         'computer': 1,\n         'at': 1,\n         'all!': 1,\n         'allready': 1,\n         'taught': 1,\n         'few': 1,\n         'lessons,': 1,\n         'i': 1,\n         'have': 1,\n         'chosen': 1,\n         'stress': 1,\n         'talk': 1,\n         'following.': 1,\n         'shall': 1,\n         'much': 1,\n         'job,': 1,\n         'provided': 3,\n         'approach': 2,\n         'full': 1,\n         'appreciation': 1,\n         'its': 1,\n         'tremenduous': 1,\n         'difficulty,': 1,\n         'stick': 1,\n         'modest': 1,\n         'elegant': 1,\n         'respect': 1,\n         'intrinsec': 1,\n         'limitations': 1,\n         'mind': 1,\n         'as': 1,\n         'very': 1,\n         'humble': 2,\n         'programmers.': 1,\n         'e.': 1,\n         'w.': 1,\n         'dijkstra,': 1,\n         'programmer': 1})"
     },
     "metadata": {},
     "execution_count": 116
    }
   ],
   "source": [
    "c3 = c1 + c2\n",
    "c3"
   ]
  },
  {
   "cell_type": "code",
   "execution_count": 118,
   "metadata": {},
   "outputs": [
    {
     "output_type": "execute_result",
     "data": {
      "text/plain": "Counter({'since': 1,\n         'programmers': 1,\n         'create': 1,\n         'programs': 1,\n         'out': 1,\n         'of': 1,\n         'nothing,': 1,\n         'imagination': 1,\n         'is': 1,\n         'only': 2,\n         'limitation.': 1,\n         'thus,': 1,\n         'world': 1,\n         'programming,': 2,\n         'hero': 1,\n         'one': 1,\n         'who': 1,\n         'has': 1,\n         'great': 2,\n         'vision.': 1,\n         'paul': 1,\n         'graham': 1,\n         'contemporary': 1,\n         'heroes.': 1,\n         'he': 2,\n         'ability': 1,\n         'embrace': 1,\n         'vision,': 2,\n         'express': 1,\n         'plainly.': 1,\n         'his': 2,\n         'works': 1,\n         'are': 1,\n         'favorites,': 1,\n         'especially': 1,\n         'ones': 1,\n         'describing': 1,\n         'language': 1,\n         'design.': 1,\n         'explains': 1,\n         'secrets': 1,\n         'nature': 2,\n         'be': 1,\n         'learned': 1,\n         'from': 1,\n         'hacker': 1,\n         'experience.': 1,\n         'book': 1,\n         'shows': 1,\n         'you': 2,\n         'tells': 1,\n         'truth': 1,\n         'hacking.': 1,\n         'yukihiro': 1,\n         'matz': 1,\n         'matsumoto,': 1,\n         'creator': 1,\n         'ruby': 1})"
     },
     "metadata": {},
     "execution_count": 118
    }
   ],
   "source": [
    "c4 = c1 - c2\n",
    "c4"
   ]
  },
  {
   "cell_type": "code",
   "execution_count": 2,
   "metadata": {},
   "outputs": [],
   "source": [
    "q = [(1, 5),\n",
    "         (1, 6),\n",
    "         (3, 2),\n",
    "         (1, 10),\n",
    "         (1, 10),\n",
    "         (1, 6),\n",
    "         (2, 5),\n",
    "         (3, 2)]"
   ]
  },
  {
   "cell_type": "code",
   "execution_count": 5,
   "metadata": {},
   "outputs": [],
   "source": [
    "from collections import defaultdict\n",
    "freqs = defaultdict(int)\n",
    "result = []\n",
    "for op, n in q:\n",
    "    if op == 1:\n",
    "        freqs[n] += 1\n",
    "    elif op == 2:\n",
    "        freqs[n] -= 1\n",
    "    elif op == 3:\n",
    "        if dict(zip(freqs.values(), freqs.keys())).get(n, None):\n",
    "            continue"
   ]
  }
 ],
 "metadata": {
  "language_info": {
   "codemirror_mode": {
    "name": "ipython",
    "version": 3
   },
   "file_extension": ".py",
   "mimetype": "text/x-python",
   "name": "python",
   "nbconvert_exporter": "python",
   "pygments_lexer": "ipython3",
   "version": "3.6.8-final"
  },
  "orig_nbformat": 2,
  "kernelspec": {
   "name": "python36864bitvenvscivenv55fc700d3ea9447888c06400e9b2b088",
   "display_name": "Python 3.6.8 64-bit ('venv-sci': venv)"
  }
 },
 "nbformat": 4,
 "nbformat_minor": 2
}